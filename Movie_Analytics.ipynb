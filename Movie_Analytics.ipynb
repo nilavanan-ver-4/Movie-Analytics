{
  "nbformat": 4,
  "nbformat_minor": 0,
  "metadata": {
    "colab": {
      "provenance": [],
      "gpuType": "T4"
    },
    "kernelspec": {
      "name": "python3",
      "display_name": "Python 3"
    },
    "language_info": {
      "name": "python"
    },
    "accelerator": "GPU"
  },
  "cells": [
    {
      "cell_type": "code",
      "execution_count": 2,
      "metadata": {
        "colab": {
          "base_uri": "https://localhost:8080/"
        },
        "id": "ewd1QNIi9nO8",
        "outputId": "fac6ce45-aaa5-431b-ce73-43504f8637e1"
      },
      "outputs": [
        {
          "output_type": "stream",
          "name": "stdout",
          "text": [
            "Drive already mounted at /content/drive; to attempt to forcibly remount, call drive.mount(\"/content/drive\", force_remount=True).\n",
            "Movies Data:\n",
            "   MovieID                               Title                        Genres\n",
            "0        1                    Toy Story (1995)   Animation|Children's|Comedy\n",
            "1        2                      Jumanji (1995)  Adventure|Children's|Fantasy\n",
            "2        3             Grumpier Old Men (1995)                Comedy|Romance\n",
            "3        4            Waiting to Exhale (1995)                  Comedy|Drama\n",
            "4        5  Father of the Bride Part II (1995)                        Comedy\n",
            "\n",
            "Ratings Data:\n",
            "   UserID  MovieID  Rating  Timestamp\n",
            "0       1     1193       5  978300760\n",
            "1       1      661       3  978302109\n",
            "2       1      914       3  978301968\n",
            "3       1     3408       4  978300275\n",
            "4       1     2355       5  978824291\n",
            "\n",
            "Users Data:\n",
            "   UserID Gender  Age  Occupation Zip-code\n",
            "0       1      F    1          10    48067\n",
            "1       2      M   56          16    70072\n",
            "2       3      M   25          15    55117\n",
            "3       4      M   45           7    02460\n",
            "4       5      M   25          20    55455\n"
          ]
        }
      ],
      "source": [
        "import pandas as pd\n",
        "from google.colab import drive\n",
        "drive.mount('/content/drive')\n",
        "\n",
        "# Define the file paths\n",
        "movies_path = '/content/drive/MyDrive/Dataset/Movie Analytics/movies.dat'\n",
        "ratings_path = '/content/drive/MyDrive/Dataset/Movie Analytics/ratings.dat'\n",
        "users_path = '/content/drive/MyDrive/Dataset/Movie Analytics/users.dat'\n",
        "\n",
        "# Load the data with the specified encoding\n",
        "movies = pd.read_csv(movies_path, delimiter='::', engine='python', header=None, names=['MovieID', 'Title', 'Genres'], encoding='ISO-8859-1')\n",
        "ratings = pd.read_csv(ratings_path, delimiter='::', engine='python', header=None, names=['UserID', 'MovieID', 'Rating', 'Timestamp'], encoding='ISO-8859-1')\n",
        "users = pd.read_csv(users_path, delimiter='::', engine='python', header=None, names=['UserID', 'Gender', 'Age', 'Occupation', 'Zip-code'], encoding='ISO-8859-1')\n",
        "\n",
        "# Display the first few rows of each dataframe\n",
        "print(\"Movies Data:\")\n",
        "print(movies.head())\n",
        "\n",
        "print(\"\\nRatings Data:\")\n",
        "print(ratings.head())\n",
        "\n",
        "print(\"\\nUsers Data:\")\n",
        "print(users.head())\n"
      ]
    },
    {
      "cell_type": "markdown",
      "source": [
        "#**Install PySpark**"
      ],
      "metadata": {
        "id": "iM4HNQB_--M_"
      }
    },
    {
      "cell_type": "code",
      "source": [
        "!pip install pyspark\n"
      ],
      "metadata": {
        "colab": {
          "base_uri": "https://localhost:8080/"
        },
        "id": "sGhpZ7Oo-4mk",
        "outputId": "fd93ab04-45bf-4ddc-b15d-579ea8fb67b2"
      },
      "execution_count": 3,
      "outputs": [
        {
          "output_type": "stream",
          "name": "stdout",
          "text": [
            "Collecting pyspark\n",
            "  Downloading pyspark-3.5.2.tar.gz (317.3 MB)\n",
            "\u001b[2K     \u001b[90m━━━━━━━━━━━━━━━━━━━━━━━━━━━━━━━━━━━━━━━━\u001b[0m \u001b[32m317.3/317.3 MB\u001b[0m \u001b[31m1.6 MB/s\u001b[0m eta \u001b[36m0:00:00\u001b[0m\n",
            "\u001b[?25h  Preparing metadata (setup.py) ... \u001b[?25l\u001b[?25hdone\n",
            "Requirement already satisfied: py4j==0.10.9.7 in /usr/local/lib/python3.10/dist-packages (from pyspark) (0.10.9.7)\n",
            "Building wheels for collected packages: pyspark\n",
            "  Building wheel for pyspark (setup.py) ... \u001b[?25l\u001b[?25hdone\n",
            "  Created wheel for pyspark: filename=pyspark-3.5.2-py2.py3-none-any.whl size=317812365 sha256=9eb863abe0de89374b89a1af95b4602a2dc04dd2732595b27ef49edf2a6200c9\n",
            "  Stored in directory: /root/.cache/pip/wheels/34/34/bd/03944534c44b677cd5859f248090daa9fb27b3c8f8e5f49574\n",
            "Successfully built pyspark\n",
            "Installing collected packages: pyspark\n",
            "Successfully installed pyspark-3.5.2\n"
          ]
        }
      ]
    },
    {
      "cell_type": "markdown",
      "source": [
        "**Set Up Spark Session**"
      ],
      "metadata": {
        "id": "WI7y7lhb_ZhD"
      }
    },
    {
      "cell_type": "code",
      "source": [
        "from pyspark.sql import SparkSession\n",
        "\n",
        "spark = SparkSession.builder \\\n",
        "    .appName(\"MovieLensAnalysis\") \\\n",
        "    .getOrCreate()\n"
      ],
      "metadata": {
        "id": "wi_uidhy-5br"
      },
      "execution_count": 4,
      "outputs": []
    },
    {
      "cell_type": "markdown",
      "source": [
        "**Convert Pandas DataFrames to Spark DataFrames**"
      ],
      "metadata": {
        "id": "b61piIegAFsa"
      }
    },
    {
      "cell_type": "code",
      "source": [
        "\n",
        "movies_spark_df = spark.createDataFrame(movies)\n",
        "ratings_spark_df = spark.createDataFrame(ratings)\n",
        "users_spark_df = spark.createDataFrame(users)\n"
      ],
      "metadata": {
        "id": "dPybNk4W_7Ry"
      },
      "execution_count": 5,
      "outputs": []
    },
    {
      "cell_type": "markdown",
      "source": [
        "**Register DataFrames as temporary views for Spark SQL**"
      ],
      "metadata": {
        "id": "6mTjB5J7AkXz"
      }
    },
    {
      "cell_type": "code",
      "source": [
        "movies_spark_df.createOrReplaceTempView(\"movies\")\n",
        "ratings_spark_df.createOrReplaceTempView(\"ratings\")\n",
        "users_spark_df.createOrReplaceTempView(\"users\")"
      ],
      "metadata": {
        "id": "6vl-6277AfSS"
      },
      "execution_count": 6,
      "outputs": []
    },
    {
      "cell_type": "markdown",
      "source": [
        "# **Analytical Queries:**"
      ],
      "metadata": {
        "id": "OA3huQwWA131"
      }
    },
    {
      "cell_type": "markdown",
      "source": [
        "1. Top 10 Most Viewed Movies"
      ],
      "metadata": {
        "id": "baluRtgHA5lZ"
      }
    },
    {
      "cell_type": "code",
      "source": [
        "top_viewed_movies = spark.sql(\"\"\"\n",
        "    SELECT m.Title, COUNT(r.MovieID) as view_count\n",
        "    FROM ratings r\n",
        "    JOIN movies m ON r.MovieID = m.MovieID\n",
        "    GROUP BY m.Title\n",
        "    ORDER BY view_count DESC\n",
        "    LIMIT 10\n",
        "\"\"\")\n",
        "top_viewed_movies.show()\n"
      ],
      "metadata": {
        "colab": {
          "base_uri": "https://localhost:8080/"
        },
        "id": "LYX8mRMiBM2j",
        "outputId": "4a60b62c-fc26-4b7e-ea07-7208da20d05e"
      },
      "execution_count": 7,
      "outputs": [
        {
          "output_type": "stream",
          "name": "stdout",
          "text": [
            "+--------------------+----------+\n",
            "|               Title|view_count|\n",
            "+--------------------+----------+\n",
            "|American Beauty (...|      3428|\n",
            "|Star Wars: Episod...|      2991|\n",
            "|Star Wars: Episod...|      2990|\n",
            "|Star Wars: Episod...|      2883|\n",
            "|Jurassic Park (1993)|      2672|\n",
            "|Saving Private Ry...|      2653|\n",
            "|Terminator 2: Jud...|      2649|\n",
            "|  Matrix, The (1999)|      2590|\n",
            "|Back to the Futur...|      2583|\n",
            "|Silence of the La...|      2578|\n",
            "+--------------------+----------+\n",
            "\n"
          ]
        }
      ]
    },
    {
      "cell_type": "markdown",
      "source": [
        "2. Distinct List of Genres"
      ],
      "metadata": {
        "id": "XZ6yrUf1A8ua"
      }
    },
    {
      "cell_type": "code",
      "source": [
        "import pyspark.sql.functions as F\n",
        "\n",
        "# Ensure genres are properly split and exploded\n",
        "movies_spark_df = movies_spark_df.withColumn(\"Genre\", F.explode(F.split(F.col(\"Genres\"), \"\\\\|\")))\n",
        "\n",
        "# Register the updated DataFrame as a temporary view\n",
        "movies_spark_df.createOrReplaceTempView(\"movies\")\n",
        "\n",
        "# Extract distinct genres\n",
        "distinct_genres = spark.sql(\"\"\"\n",
        "    SELECT DISTINCT Genre\n",
        "    FROM movies\n",
        "\"\"\")\n",
        "\n",
        "# Show distinct genres\n",
        "distinct_genres.show(truncate=False)\n",
        "\n"
      ],
      "metadata": {
        "colab": {
          "base_uri": "https://localhost:8080/"
        },
        "id": "EKMOEkOkBTz_",
        "outputId": "d58fd06b-58cb-4c0f-8379-cec9f5dc08e5"
      },
      "execution_count": 8,
      "outputs": [
        {
          "output_type": "stream",
          "name": "stdout",
          "text": [
            "+-----------+\n",
            "|Genre      |\n",
            "+-----------+\n",
            "|Crime      |\n",
            "|Romance    |\n",
            "|Thriller   |\n",
            "|Adventure  |\n",
            "|Children's |\n",
            "|Drama      |\n",
            "|War        |\n",
            "|Documentary|\n",
            "|Fantasy    |\n",
            "|Mystery    |\n",
            "|Musical    |\n",
            "|Animation  |\n",
            "|Film-Noir  |\n",
            "|Horror     |\n",
            "|Western    |\n",
            "|Comedy     |\n",
            "|Action     |\n",
            "|Sci-Fi     |\n",
            "+-----------+\n",
            "\n"
          ]
        }
      ]
    },
    {
      "cell_type": "markdown",
      "source": [
        "3. Number of Movies for Each Genre"
      ],
      "metadata": {
        "id": "O9kLo2H1A84Z"
      }
    },
    {
      "cell_type": "code",
      "source": [
        "movies_per_rating = spark.sql(\"\"\"\n",
        "    SELECT Rating, COUNT(*) as count\n",
        "    FROM ratings\n",
        "    GROUP BY Rating\n",
        "    ORDER BY count DESC\n",
        "\"\"\")\n",
        "movies_per_rating.show()\n"
      ],
      "metadata": {
        "colab": {
          "base_uri": "https://localhost:8080/"
        },
        "id": "bc3mURjYB1W6",
        "outputId": "cb4053cb-4a49-456f-c308-4098eea5eba8"
      },
      "execution_count": 9,
      "outputs": [
        {
          "output_type": "stream",
          "name": "stdout",
          "text": [
            "+------+------+\n",
            "|Rating| count|\n",
            "+------+------+\n",
            "|     4|348971|\n",
            "|     3|261197|\n",
            "|     5|226310|\n",
            "|     2|107557|\n",
            "|     1| 56174|\n",
            "+------+------+\n",
            "\n"
          ]
        }
      ]
    },
    {
      "cell_type": "markdown",
      "source": [
        "4. Number of Movies Starting with Numbers or Letters"
      ],
      "metadata": {
        "id": "3_WTgq4pA9Ch"
      }
    },
    {
      "cell_type": "code",
      "source": [
        "users_per_movie = spark.sql(\"\"\"\n",
        "    SELECT MovieID, COUNT(DISTINCT UserID) as num_users\n",
        "    FROM ratings\n",
        "    GROUP BY MovieID\n",
        "    ORDER BY num_users DESC\n",
        "\"\"\")\n",
        "users_per_movie.show()\n"
      ],
      "metadata": {
        "colab": {
          "base_uri": "https://localhost:8080/"
        },
        "id": "oxlziHHGB6Mi",
        "outputId": "93a63b97-ad83-461d-b984-47a4da0af023"
      },
      "execution_count": 10,
      "outputs": [
        {
          "output_type": "stream",
          "name": "stdout",
          "text": [
            "+-------+---------+\n",
            "|MovieID|num_users|\n",
            "+-------+---------+\n",
            "|   2858|     3428|\n",
            "|    260|     2991|\n",
            "|   1196|     2990|\n",
            "|   1210|     2883|\n",
            "|    480|     2672|\n",
            "|   2028|     2653|\n",
            "|    589|     2649|\n",
            "|   2571|     2590|\n",
            "|   1270|     2583|\n",
            "|    593|     2578|\n",
            "|   1580|     2538|\n",
            "|   1198|     2514|\n",
            "|    608|     2513|\n",
            "|   2762|     2459|\n",
            "|    110|     2443|\n",
            "|   2396|     2369|\n",
            "|   1197|     2318|\n",
            "|    527|     2304|\n",
            "|   1617|     2288|\n",
            "|   1265|     2278|\n",
            "+-------+---------+\n",
            "only showing top 20 rows\n",
            "\n"
          ]
        }
      ]
    },
    {
      "cell_type": "markdown",
      "source": [
        "5. List of Latest Released Movies"
      ],
      "metadata": {
        "id": "BXVypAY_A9Ky"
      }
    },
    {
      "cell_type": "code",
      "source": [
        "total_rating_per_movie = spark.sql(\"\"\"\n",
        "    SELECT MovieID, SUM(Rating) as total_rating\n",
        "    FROM ratings\n",
        "    GROUP BY MovieID\n",
        "    ORDER BY total_rating DESC\n",
        "\"\"\")\n",
        "total_rating_per_movie.show()\n"
      ],
      "metadata": {
        "colab": {
          "base_uri": "https://localhost:8080/"
        },
        "id": "kAIgp4HuAlo6",
        "outputId": "7a67e0cb-918b-4ea5-9fe3-9e331480ee58"
      },
      "execution_count": 11,
      "outputs": [
        {
          "output_type": "stream",
          "name": "stdout",
          "text": [
            "+-------+------------+\n",
            "|MovieID|total_rating|\n",
            "+-------+------------+\n",
            "|   2858|       14800|\n",
            "|    260|       13321|\n",
            "|   1196|       12836|\n",
            "|   1210|       11598|\n",
            "|   2028|       11507|\n",
            "|   1198|       11257|\n",
            "|    593|       11219|\n",
            "|   2571|       11178|\n",
            "|   2762|       10835|\n",
            "|    589|       10751|\n",
            "|    608|       10692|\n",
            "|    527|       10392|\n",
            "|    110|       10346|\n",
            "|   1270|       10307|\n",
            "|    318|       10143|\n",
            "|    858|       10059|\n",
            "|    480|       10057|\n",
            "|   1197|        9976|\n",
            "|   2396|        9778|\n",
            "|   1617|        9654|\n",
            "+-------+------------+\n",
            "only showing top 20 rows\n",
            "\n"
          ]
        }
      ]
    },
    {
      "cell_type": "markdown",
      "source": [
        "# **Spark SQL**"
      ],
      "metadata": {
        "id": "xd5fa2XfCpu-"
      }
    },
    {
      "cell_type": "markdown",
      "source": [
        "1. Create tables for movies.dat, users.dat, and ratings.dat in Spark SQL"
      ],
      "metadata": {
        "id": "m_CvszFSYzjv"
      }
    },
    {
      "cell_type": "code",
      "source": [
        "from pyspark.sql import SparkSession\n",
        "\n",
        "# Initialize Spark Session\n",
        "spark = SparkSession.builder.appName(\"MovieLensAnalysis\").getOrCreate()\n",
        "\n",
        "# Load Data\n",
        "movies_path = \"/content/drive/MyDrive/Dataset/Movie Analytics/movies.dat\"\n",
        "ratings_path = \"/content/drive/MyDrive/Dataset/Movie Analytics/ratings.dat\"\n",
        "users_path = \"/content/drive/MyDrive/Dataset/Movie Analytics/users.dat\"\n",
        "\n",
        "# Load Movies Data\n",
        "movies = spark.read.csv(movies_path, sep='::', header=False, inferSchema=True).toDF(\"MovieID\", \"Title\", \"Genres\")\n",
        "movies.createOrReplaceTempView(\"movies\")\n",
        "\n",
        "# Load Ratings Data\n",
        "ratings = spark.read.csv(ratings_path, sep='::', header=False, inferSchema=True).toDF(\"UserID\", \"MovieID\", \"Rating\", \"Timestamp\")\n",
        "ratings.createOrReplaceTempView(\"ratings\")\n",
        "\n",
        "# Load Users Data\n",
        "users = spark.read.csv(users_path, sep='::', header=False, inferSchema=True).toDF(\"UserID\", \"Gender\", \"Age\", \"Occupation\", \"Zip-code\")\n",
        "users.createOrReplaceTempView(\"users\")\n",
        "\n",
        "# Save tables in parquet format (optional)\n",
        "movies.write.parquet(\"data/movies_table.parquet\")\n",
        "ratings.write.parquet(\"data/ratings_table.parquet\")\n",
        "users.write.parquet(\"data/users_table.parquet\")\n"
      ],
      "metadata": {
        "id": "H9k1jbS-Yzqx"
      },
      "execution_count": 18,
      "outputs": []
    },
    {
      "cell_type": "markdown",
      "source": [
        "2. Find the list of the oldest released movies"
      ],
      "metadata": {
        "id": "eMNW4sQ0YzzA"
      }
    },
    {
      "cell_type": "code",
      "source": [
        "from pyspark.sql.functions import regexp_extract\n",
        "\n",
        "# Extract Year from the Title and create a new DataFrame\n",
        "movies_with_year = movies_spark_df.withColumn(\"Year\", regexp_extract(\"Title\", r\"\\((\\d{4})\\)\", 1))\n",
        "\n",
        "# Register the new DataFrame with Year as a temporary SQL table\n",
        "movies_with_year.createOrReplaceTempView(\"movies_with_year\")\n",
        "\n",
        "oldest_movies = spark.sql(\"\"\"\n",
        "    SELECT Title, Year\n",
        "    FROM movies_with_year\n",
        "    WHERE Year IS NOT NULL AND Year != ''\n",
        "    ORDER BY Year ASC\n",
        "    LIMIT 10\n",
        "\"\"\")\n",
        "oldest_movies.show()\n"
      ],
      "metadata": {
        "id": "-wUnOwl0Yz66",
        "colab": {
          "base_uri": "https://localhost:8080/"
        },
        "outputId": "738b5d4a-dd69-4a37-a796-277c9c363a82"
      },
      "execution_count": 22,
      "outputs": [
        {
          "output_type": "stream",
          "name": "stdout",
          "text": [
            "+--------------------+----+\n",
            "|               Title|Year|\n",
            "+--------------------+----+\n",
            "|Daddy Long Legs (...|1919|\n",
            "|Male and Female (...|1919|\n",
            "|Male and Female (...|1919|\n",
            "|Spiders, The (Die...|1919|\n",
            "|Spiders, The (Die...|1919|\n",
            "| Saphead, The (1920)|1920|\n",
            "|Dog's Life, A (1920)|1920|\n",
            "|     Kid, The (1921)|1921|\n",
            "|Nosferatu (Nosfer...|1922|\n",
            "|Tess of the Storm...|1922|\n",
            "+--------------------+----+\n",
            "\n"
          ]
        }
      ]
    },
    {
      "cell_type": "markdown",
      "source": [
        "3. How many movies are released each year?"
      ],
      "metadata": {
        "id": "lhRlLHa_Y0CA"
      }
    },
    {
      "cell_type": "code",
      "source": [
        "from pyspark.sql.functions import regexp_extract\n",
        "\n",
        "# Extract Year from Title and store it in a new DataFrame\n",
        "movies_with_year = movies_spark_df.withColumn(\"Year\", regexp_extract(\"Title\", r\"\\((\\d{4})\\)\", 1))\n",
        "\n",
        "# Register this new DataFrame as a table\n",
        "movies_with_year.createOrReplaceTempView(\"movies_with_year\")\n",
        "\n",
        "movies_per_year = spark.sql(\"\"\"\n",
        "    SELECT Year, COUNT(*) as MovieCount\n",
        "    FROM movies_with_year\n",
        "    WHERE Year IS NOT NULL AND Year != ''\n",
        "    GROUP BY Year\n",
        "    ORDER BY Year ASC\n",
        "\"\"\")\n",
        "movies_per_year.show()\n"
      ],
      "metadata": {
        "id": "BvZZcuUuY0Jo",
        "colab": {
          "base_uri": "https://localhost:8080/"
        },
        "outputId": "ca3dd9e3-47ec-4247-ef2b-9621217a1540"
      },
      "execution_count": 25,
      "outputs": [
        {
          "output_type": "stream",
          "name": "stdout",
          "text": [
            "+----+----------+\n",
            "|Year|MovieCount|\n",
            "+----+----------+\n",
            "|1919|         5|\n",
            "|1920|         2|\n",
            "|1921|         1|\n",
            "|1922|         2|\n",
            "|1923|         3|\n",
            "|1925|         7|\n",
            "|1926|         9|\n",
            "|1927|         9|\n",
            "|1928|         3|\n",
            "|1929|         3|\n",
            "|1930|        11|\n",
            "|1931|        11|\n",
            "|1932|        11|\n",
            "|1933|        13|\n",
            "|1934|         9|\n",
            "|1935|         8|\n",
            "|1936|         8|\n",
            "|1937|        21|\n",
            "|1938|        11|\n",
            "|1939|        21|\n",
            "+----+----------+\n",
            "only showing top 20 rows\n",
            "\n"
          ]
        }
      ]
    },
    {
      "cell_type": "markdown",
      "source": [
        "4. How many movies are there for each rating?"
      ],
      "metadata": {
        "id": "r_Kj3_U0Y0Qj"
      }
    },
    {
      "cell_type": "code",
      "source": [
        "movies_per_rating = spark.sql(\"\"\"\n",
        "    SELECT Rating, COUNT(*) as MovieCount\n",
        "    FROM ratings\n",
        "    GROUP BY Rating\n",
        "    ORDER BY MovieCount DESC\n",
        "\"\"\")\n",
        "movies_per_rating.show()\n"
      ],
      "metadata": {
        "id": "5qe1noy4Y0YB",
        "colab": {
          "base_uri": "https://localhost:8080/"
        },
        "outputId": "83abe9bd-facc-4012-f6c6-d56a22e74d09"
      },
      "execution_count": 27,
      "outputs": [
        {
          "output_type": "stream",
          "name": "stdout",
          "text": [
            "+------+----------+\n",
            "|Rating|MovieCount|\n",
            "+------+----------+\n",
            "|     4|    348971|\n",
            "|     3|    261197|\n",
            "|     5|    226310|\n",
            "|     2|    107557|\n",
            "|     1|     56174|\n",
            "+------+----------+\n",
            "\n"
          ]
        }
      ]
    },
    {
      "cell_type": "markdown",
      "source": [
        "5. How many users have rated each movie?"
      ],
      "metadata": {
        "id": "r6jqn09fY0eQ"
      }
    },
    {
      "cell_type": "code",
      "source": [
        "users_per_movie = spark.sql(\"\"\"\n",
        "    SELECT MovieID, COUNT(DISTINCT UserID) as UserCount\n",
        "    FROM ratings\n",
        "    GROUP BY MovieID\n",
        "    ORDER BY UserCount DESC\n",
        "\"\"\")\n",
        "users_per_movie.show()\n"
      ],
      "metadata": {
        "id": "De4THjbaY0k6",
        "colab": {
          "base_uri": "https://localhost:8080/"
        },
        "outputId": "c550f301-d4fb-4250-b11b-416838999dad"
      },
      "execution_count": 28,
      "outputs": [
        {
          "output_type": "stream",
          "name": "stdout",
          "text": [
            "+-------+---------+\n",
            "|MovieID|UserCount|\n",
            "+-------+---------+\n",
            "|   2858|     3428|\n",
            "|    260|     2991|\n",
            "|   1196|     2990|\n",
            "|   1210|     2883|\n",
            "|    480|     2672|\n",
            "|   2028|     2653|\n",
            "|    589|     2649|\n",
            "|   2571|     2590|\n",
            "|   1270|     2583|\n",
            "|    593|     2578|\n",
            "|   1580|     2538|\n",
            "|   1198|     2514|\n",
            "|    608|     2513|\n",
            "|   2762|     2459|\n",
            "|    110|     2443|\n",
            "|   2396|     2369|\n",
            "|   1197|     2318|\n",
            "|    527|     2304|\n",
            "|   1617|     2288|\n",
            "|   1265|     2278|\n",
            "+-------+---------+\n",
            "only showing top 20 rows\n",
            "\n"
          ]
        }
      ]
    },
    {
      "cell_type": "markdown",
      "source": [
        "6. What is the total rating for each movie?"
      ],
      "metadata": {
        "id": "GBFrRKPVZUIa"
      }
    },
    {
      "cell_type": "code",
      "source": [
        "total_ratings_per_movie = spark.sql(\"\"\"\n",
        "    SELECT r.MovieID, m.Title, SUM(r.Rating) as TotalRating\n",
        "    FROM ratings r\n",
        "    JOIN movies m ON r.MovieID = m.MovieID\n",
        "    GROUP BY r.MovieID, m.Title\n",
        "    ORDER BY TotalRating DESC\n",
        "\"\"\")\n",
        "total_ratings_per_movie.show()\n"
      ],
      "metadata": {
        "id": "AZ5aCSDNZUQA",
        "colab": {
          "base_uri": "https://localhost:8080/"
        },
        "outputId": "3a7675c9-aba3-4105-a521-ef65ee2ae437"
      },
      "execution_count": 29,
      "outputs": [
        {
          "output_type": "stream",
          "name": "stdout",
          "text": [
            "+-------+--------------------+-----------+\n",
            "|MovieID|               Title|TotalRating|\n",
            "+-------+--------------------+-----------+\n",
            "|   2858|American Beauty (...|      14800|\n",
            "|    260|Star Wars: Episod...|      13321|\n",
            "|   1196|Star Wars: Episod...|      12836|\n",
            "|   1210|Star Wars: Episod...|      11598|\n",
            "|   2028|Saving Private Ry...|      11507|\n",
            "|   1198|Raiders of the Lo...|      11257|\n",
            "|    593|Silence of the La...|      11219|\n",
            "|   2571|  Matrix, The (1999)|      11178|\n",
            "|   2762|Sixth Sense, The ...|      10835|\n",
            "|    589|Terminator 2: Jud...|      10751|\n",
            "|    608|        Fargo (1996)|      10692|\n",
            "|    527|Schindler's List ...|      10392|\n",
            "|    110|   Braveheart (1995)|      10346|\n",
            "|   1270|Back to the Futur...|      10307|\n",
            "|    318|Shawshank Redempt...|      10143|\n",
            "|    858|Godfather, The (1...|      10059|\n",
            "|    480|Jurassic Park (1993)|      10057|\n",
            "|   1197|Princess Bride, T...|       9976|\n",
            "|   2396|Shakespeare in Lo...|       9778|\n",
            "|   1617|L.A. Confidential...|       9654|\n",
            "+-------+--------------------+-----------+\n",
            "only showing top 20 rows\n",
            "\n"
          ]
        }
      ]
    },
    {
      "cell_type": "markdown",
      "source": [
        "7. What is the average rating for each movie?"
      ],
      "metadata": {
        "id": "eF-TnRQSZUWf"
      }
    },
    {
      "cell_type": "code",
      "source": [
        "average_ratings_per_movie = spark.sql(\"\"\"\n",
        "    SELECT r.MovieID, m.Title, AVG(r.Rating) as AvgRating\n",
        "    FROM ratings r\n",
        "    JOIN movies m ON r.MovieID = m.MovieID\n",
        "    GROUP BY r.MovieID, m.Title\n",
        "    ORDER BY AvgRating DESC\n",
        "\"\"\")\n",
        "average_ratings_per_movie.show()\n"
      ],
      "metadata": {
        "id": "fGctLtowZUdH",
        "colab": {
          "base_uri": "https://localhost:8080/"
        },
        "outputId": "d4fde73c-1435-4e1b-f5c8-793444bcf714"
      },
      "execution_count": 30,
      "outputs": [
        {
          "output_type": "stream",
          "name": "stdout",
          "text": [
            "+-------+--------------------+-----------------+\n",
            "|MovieID|               Title|        AvgRating|\n",
            "+-------+--------------------+-----------------+\n",
            "|   3280|    Baby, The (1973)|              5.0|\n",
            "|    989|Schlafes Bruder (...|              5.0|\n",
            "|   1830|Follow the Bitch ...|              5.0|\n",
            "|   3881|Bittersweet Motel...|              5.0|\n",
            "|    787|Gate of Heavenly ...|              5.0|\n",
            "|   3233|Smashing Time (1967)|              5.0|\n",
            "|   3172|Ulysses (Ulisse) ...|              5.0|\n",
            "|   3607|One Little Indian...|              5.0|\n",
            "|   3656|        Lured (1947)|              5.0|\n",
            "|   3382|Song of Freedom (...|              5.0|\n",
            "|   3245|I Am Cuba (Soy Cu...|              4.8|\n",
            "|     53|     Lamerica (1994)|             4.75|\n",
            "|   2503|Apple, The (Sib) ...|4.666666666666667|\n",
            "|   2905|      Sanjuro (1962)|4.608695652173913|\n",
            "|   2019|Seven Samurai (Th...|4.560509554140127|\n",
            "|    318|Shawshank Redempt...|4.554557700942973|\n",
            "|    858|Godfather, The (1...|4.524966261808367|\n",
            "|    745|Close Shave, A (1...| 4.52054794520548|\n",
            "|     50|Usual Suspects, T...|4.517106001121705|\n",
            "|    527|Schindler's List ...|4.510416666666667|\n",
            "+-------+--------------------+-----------------+\n",
            "only showing top 20 rows\n",
            "\n"
          ]
        }
      ]
    },
    {
      "cell_type": "markdown",
      "source": [
        "# **Spark Data Frames**"
      ],
      "metadata": {
        "id": "7ciTND-tCBb9"
      }
    },
    {
      "cell_type": "markdown",
      "source": [
        "1. Prepare Movies Data: Extracting the Year and Genre from the Text"
      ],
      "metadata": {
        "id": "BJ9fRGuPCoyb"
      }
    },
    {
      "cell_type": "code",
      "source": [
        "movies_df = spark.read.csv(movies_path, sep='::', header=False, inferSchema=True)\\\n",
        "    .toDF('MovieID', 'Title', 'Genres')\n",
        "\n",
        "# Extract year from title\n",
        "movies_df = movies_df.withColumn('Year', F.regexp_extract(F.col('Title'), r'\\((\\d{4})\\)$', 1).cast('int'))\n",
        "\n",
        "# Split genres into an array\n",
        "movies_df = movies_df.withColumn('Genres', F.split(F.col('Genres'), '\\\\|'))\n",
        "\n",
        "movies_df.show(truncate=False)"
      ],
      "metadata": {
        "colab": {
          "base_uri": "https://localhost:8080/"
        },
        "id": "ugLOKhOYCL2z",
        "outputId": "b508cd66-2bf8-4eec-d9fd-e0d5b1be0d4a"
      },
      "execution_count": 31,
      "outputs": [
        {
          "output_type": "stream",
          "name": "stdout",
          "text": [
            "+-------+-------------------------------------+--------------------------------+----+\n",
            "|MovieID|Title                                |Genres                          |Year|\n",
            "+-------+-------------------------------------+--------------------------------+----+\n",
            "|1      |Toy Story (1995)                     |[Animation, Children's, Comedy] |1995|\n",
            "|2      |Jumanji (1995)                       |[Adventure, Children's, Fantasy]|1995|\n",
            "|3      |Grumpier Old Men (1995)              |[Comedy, Romance]               |1995|\n",
            "|4      |Waiting to Exhale (1995)             |[Comedy, Drama]                 |1995|\n",
            "|5      |Father of the Bride Part II (1995)   |[Comedy]                        |1995|\n",
            "|6      |Heat (1995)                          |[Action, Crime, Thriller]       |1995|\n",
            "|7      |Sabrina (1995)                       |[Comedy, Romance]               |1995|\n",
            "|8      |Tom and Huck (1995)                  |[Adventure, Children's]         |1995|\n",
            "|9      |Sudden Death (1995)                  |[Action]                        |1995|\n",
            "|10     |GoldenEye (1995)                     |[Action, Adventure, Thriller]   |1995|\n",
            "|11     |American President, The (1995)       |[Comedy, Drama, Romance]        |1995|\n",
            "|12     |Dracula: Dead and Loving It (1995)   |[Comedy, Horror]                |1995|\n",
            "|13     |Balto (1995)                         |[Animation, Children's]         |1995|\n",
            "|14     |Nixon (1995)                         |[Drama]                         |1995|\n",
            "|15     |Cutthroat Island (1995)              |[Action, Adventure, Romance]    |1995|\n",
            "|16     |Casino (1995)                        |[Drama, Thriller]               |1995|\n",
            "|17     |Sense and Sensibility (1995)         |[Drama, Romance]                |1995|\n",
            "|18     |Four Rooms (1995)                    |[Thriller]                      |1995|\n",
            "|19     |Ace Ventura: When Nature Calls (1995)|[Comedy]                        |1995|\n",
            "|20     |Money Train (1995)                   |[Action]                        |1995|\n",
            "+-------+-------------------------------------+--------------------------------+----+\n",
            "only showing top 20 rows\n",
            "\n"
          ]
        }
      ]
    },
    {
      "cell_type": "markdown",
      "source": [
        "2. Prepare Users Data: Loading a Double Delimited CSV File"
      ],
      "metadata": {
        "id": "8IlpfcB6Co8x"
      }
    },
    {
      "cell_type": "code",
      "source": [
        "users_df = spark.read.csv(users_path, sep='::', header=False, inferSchema=True)\\\n",
        "    .toDF('UserID', 'Gender', 'Age', 'Occupation', 'Zip-code')\n",
        "\n",
        "users_df.show(truncate=False)\n"
      ],
      "metadata": {
        "colab": {
          "base_uri": "https://localhost:8080/"
        },
        "id": "K1Wy13EeC0S9",
        "outputId": "16b55dc5-fa77-47c3-e526-0dce3804ed3d"
      },
      "execution_count": 32,
      "outputs": [
        {
          "output_type": "stream",
          "name": "stdout",
          "text": [
            "+------+------+---+----------+--------+\n",
            "|UserID|Gender|Age|Occupation|Zip-code|\n",
            "+------+------+---+----------+--------+\n",
            "|1     |F     |1  |10        |48067   |\n",
            "|2     |M     |56 |16        |70072   |\n",
            "|3     |M     |25 |15        |55117   |\n",
            "|4     |M     |45 |7         |02460   |\n",
            "|5     |M     |25 |20        |55455   |\n",
            "|6     |F     |50 |9         |55117   |\n",
            "|7     |M     |35 |1         |06810   |\n",
            "|8     |M     |25 |12        |11413   |\n",
            "|9     |M     |25 |17        |61614   |\n",
            "|10    |F     |35 |1         |95370   |\n",
            "|11    |F     |25 |1         |04093   |\n",
            "|12    |M     |25 |12        |32793   |\n",
            "|13    |M     |45 |1         |93304   |\n",
            "|14    |M     |35 |0         |60126   |\n",
            "|15    |M     |25 |7         |22903   |\n",
            "|16    |F     |35 |0         |20670   |\n",
            "|17    |M     |50 |1         |95350   |\n",
            "|18    |F     |18 |3         |95825   |\n",
            "|19    |M     |1  |10        |48073   |\n",
            "|20    |M     |25 |14        |55113   |\n",
            "+------+------+---+----------+--------+\n",
            "only showing top 20 rows\n",
            "\n"
          ]
        }
      ]
    },
    {
      "cell_type": "markdown",
      "source": [
        "3. Prepare Ratings Data: Programmatically Specifying a Schema for the Data Frame"
      ],
      "metadata": {
        "id": "76PVwKLTCyJC"
      }
    },
    {
      "cell_type": "code",
      "source": [
        "from pyspark.sql.types import StructType, StructField, IntegerType, LongType\n",
        "\n",
        "# Define schema\n",
        "schema = StructType([\n",
        "    StructField(\"UserID\", IntegerType(), True),\n",
        "    StructField(\"MovieID\", IntegerType(), True),\n",
        "    StructField(\"Rating\", IntegerType(), True),\n",
        "    StructField(\"Timestamp\", LongType(), True)\n",
        "])\n",
        "\n",
        "# Load ratings data\n",
        "ratings_df = spark.read.csv(ratings_path, sep='::', header=False, schema=schema)\n",
        "\n",
        "ratings_df.show(truncate=False)\n"
      ],
      "metadata": {
        "colab": {
          "base_uri": "https://localhost:8080/"
        },
        "id": "Rk9W-u4yC5kS",
        "outputId": "8537cdb5-05ba-4556-ef9b-50ae44dd1aea"
      },
      "execution_count": 33,
      "outputs": [
        {
          "output_type": "stream",
          "name": "stdout",
          "text": [
            "+------+-------+------+---------+\n",
            "|UserID|MovieID|Rating|Timestamp|\n",
            "+------+-------+------+---------+\n",
            "|1     |1193   |5     |978300760|\n",
            "|1     |661    |3     |978302109|\n",
            "|1     |914    |3     |978301968|\n",
            "|1     |3408   |4     |978300275|\n",
            "|1     |2355   |5     |978824291|\n",
            "|1     |1197   |3     |978302268|\n",
            "|1     |1287   |5     |978302039|\n",
            "|1     |2804   |5     |978300719|\n",
            "|1     |594    |4     |978302268|\n",
            "|1     |919    |4     |978301368|\n",
            "|1     |595    |5     |978824268|\n",
            "|1     |938    |4     |978301752|\n",
            "|1     |2398   |4     |978302281|\n",
            "|1     |2918   |4     |978302124|\n",
            "|1     |1035   |5     |978301753|\n",
            "|1     |2791   |4     |978302188|\n",
            "|1     |2687   |3     |978824268|\n",
            "|1     |2018   |4     |978301777|\n",
            "|1     |3105   |5     |978301713|\n",
            "|1     |2797   |4     |978302039|\n",
            "+------+-------+------+---------+\n",
            "only showing top 20 rows\n",
            "\n"
          ]
        }
      ]
    },
    {
      "cell_type": "markdown",
      "source": [
        "5. Save Table without Defining DDL in Hive"
      ],
      "metadata": {
        "id": "ouCmEKUXCpC6"
      }
    },
    {
      "cell_type": "code",
      "source": [
        "# Assuming Hive is set up and configured\n",
        "movies_df.write.saveAsTable(\"movies\")\n"
      ],
      "metadata": {
        "id": "EJJvz5PkDEI7"
      },
      "execution_count": 34,
      "outputs": []
    },
    {
      "cell_type": "markdown",
      "source": [
        "6. Broadcast Variable Example"
      ],
      "metadata": {
        "id": "pu6DhoJvCpHz"
      }
    },
    {
      "cell_type": "code",
      "source": [
        "from pyspark.sql import Row\n",
        "\n",
        "# Create a broadcast variable\n",
        "movie_titles = {row['MovieID']: row['Title'] for row in movies_df.collect()}\n",
        "movie_titles_broadcast = spark.sparkContext.broadcast(movie_titles)\n",
        "\n",
        "# Example of using the broadcast variable in a UDF\n",
        "def get_movie_title(movie_id):\n",
        "    return movie_titles_broadcast.value.get(movie_id, 'Unknown')\n",
        "\n",
        "from pyspark.sql.functions import udf\n",
        "get_movie_title_udf = udf(get_movie_title)\n",
        "\n",
        "# Apply the UDF to add a new column with movie titles\n",
        "ratings_with_titles_df = ratings_df.withColumn('Title', get_movie_title_udf(F.col('MovieID')))\n",
        "ratings_with_titles_df.show()\n"
      ],
      "metadata": {
        "colab": {
          "base_uri": "https://localhost:8080/"
        },
        "id": "TURLXOiHDLrO",
        "outputId": "4ecf741d-dcc8-4322-ea37-66fc8234538e"
      },
      "execution_count": 35,
      "outputs": [
        {
          "output_type": "stream",
          "name": "stdout",
          "text": [
            "+------+-------+------+---------+--------------------+\n",
            "|UserID|MovieID|Rating|Timestamp|               Title|\n",
            "+------+-------+------+---------+--------------------+\n",
            "|     1|   1193|     5|978300760|One Flew Over the...|\n",
            "|     1|    661|     3|978302109|James and the Gia...|\n",
            "|     1|    914|     3|978301968| My Fair Lady (1964)|\n",
            "|     1|   3408|     4|978300275|Erin Brockovich (...|\n",
            "|     1|   2355|     5|978824291|Bug's Life, A (1998)|\n",
            "|     1|   1197|     3|978302268|Princess Bride, T...|\n",
            "|     1|   1287|     5|978302039|      Ben-Hur (1959)|\n",
            "|     1|   2804|     5|978300719|Christmas Story, ...|\n",
            "|     1|    594|     4|978302268|Snow White and th...|\n",
            "|     1|    919|     4|978301368|Wizard of Oz, The...|\n",
            "|     1|    595|     5|978824268|Beauty and the Be...|\n",
            "|     1|    938|     4|978301752|         Gigi (1958)|\n",
            "|     1|   2398|     4|978302281|Miracle on 34th S...|\n",
            "|     1|   2918|     4|978302124|Ferris Bueller's ...|\n",
            "|     1|   1035|     5|978301753|Sound of Music, T...|\n",
            "|     1|   2791|     4|978302188|    Airplane! (1980)|\n",
            "|     1|   2687|     3|978824268|       Tarzan (1999)|\n",
            "|     1|   2018|     4|978301777|        Bambi (1942)|\n",
            "|     1|   3105|     5|978301713|   Awakenings (1990)|\n",
            "|     1|   2797|     4|978302039|          Big (1988)|\n",
            "+------+-------+------+---------+--------------------+\n",
            "only showing top 20 rows\n",
            "\n"
          ]
        }
      ]
    },
    {
      "cell_type": "markdown",
      "source": [
        "7. Accumulator Example"
      ],
      "metadata": {
        "id": "kcs1gJu5CpM8"
      }
    },
    {
      "cell_type": "code",
      "source": [
        "# Example accumulator\n",
        "accumulator = spark.sparkContext.accumulator(0)\n",
        "\n",
        "def increment_accumulator(rating):\n",
        "    global accumulator\n",
        "    if rating > 4:\n",
        "        accumulator += 1\n",
        "\n",
        "# Apply the function to each row\n",
        "ratings_df.foreach(lambda row: increment_accumulator(row['Rating']))\n",
        "\n",
        "print(f\"Number of high ratings: {accumulator.value}\")\n"
      ],
      "metadata": {
        "colab": {
          "base_uri": "https://localhost:8080/"
        },
        "id": "pVgdzGpTDUkq",
        "outputId": "48bff0ff-45de-439b-aaa9-3c35f0e4bd7e"
      },
      "execution_count": 36,
      "outputs": [
        {
          "output_type": "stream",
          "name": "stdout",
          "text": [
            "Number of high ratings: 226310\n"
          ]
        }
      ]
    }
  ]
}